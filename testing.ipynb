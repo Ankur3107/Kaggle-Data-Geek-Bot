{
  "cells": [
    {
      "metadata": {
        "_uuid": "089c4123570818244f777009334a62db5b5f12c9",
        "_execution_state": "idle",
        "trusted": true
      },
      "cell_type": "code",
      "source": "library(knitr)\nlibrary(tidyr)\nlibrary(dplyr)\nlibrary(readr)\nlibrary(ggplot2)\nlibrary(tibble)\nlibrary(stringr)\nlibrary(gridExtra)\nlibrary(scales)\nlibrary(lubridate)\nlibrary(ggrepel)\nlibrary(leaflet)\nlibrary(reshape2)\n\nlibrary('dplyr')\nlibrary('DataExplorer')\nlibrary(ggplot2)\nlibrary(dplyr)\nlibrary(gridExtra)\nlibrary(RColorBrewer)\nlibrary(ggthemes)\nlibrary(gridExtra)\nlibrary(qgraph)\nlibrary(igraph)\nlibrary(bootnet) \nlibrary(dplyr)\nlibrary(NetworkComparisonTest)\nlibrary(mgm)\nlibrary(berryFunctions)\nlibrary(mice)\nlibrary(caret)\nlibrary(funModeling)\nlibrary(dplyr)\nlibrary(gbm)\nlibrary(breakDown)\nlibrary(ggpubr)\nlibrary(grid)\nlibrary(gridExtra)\nlibrary(ggplot2)\n\nlibrary(dplyr)\nlibrary(reshape)\nlibrary(data.table)\nlibrary(data.table)\nlibrary(formattable)\nlibrary(gridExtra)\nlibrary(funModeling)\nlibrary(tictoc)\noptions(warn=-1)",
      "execution_count": null,
      "outputs": []
    },
    {
      "metadata": {
        "trusted": true,
        "_uuid": "360e39f7a95abb4f0995e0e5aab416fbeedb0ecb"
      },
      "cell_type": "code",
      "source": "speedDating <- read.csv(\"../input/Speed Dating Data.csv\",stringsAsFactors=FALSE)",
      "execution_count": null,
      "outputs": []
    },
    {
      "metadata": {
        "trusted": true,
        "_uuid": "53d4028678592546624b4025895af298568be1a6"
      },
      "cell_type": "code",
      "source": "dim(speedDating)",
      "execution_count": null,
      "outputs": []
    },
    {
      "metadata": {
        "trusted": true,
        "scrolled": true,
        "_uuid": "6c55b832da2cd2ffa66dc5d931a65513135859c5"
      },
      "cell_type": "code",
      "source": "glimpse(speedDating)",
      "execution_count": null,
      "outputs": []
    },
    {
      "metadata": {
        "trusted": true,
        "_uuid": "f02dad1c1c2369ebcf46a6353e8e0d36dfeda3a3"
      },
      "cell_type": "code",
      "source": "speedDating_status <- df_status(speedDating)",
      "execution_count": null,
      "outputs": []
    },
    {
      "metadata": {
        "trusted": true,
        "_uuid": "2d155d671282a6b83204954003ab403b4161637a"
      },
      "cell_type": "code",
      "source": "vars_to_remove=filter(speedDating_status, p_na > 10)  %>% .$variable\nlength(vars_to_remove)",
      "execution_count": null,
      "outputs": []
    },
    {
      "metadata": {
        "trusted": true,
        "_uuid": "a47cea6fac5a90c73e9ac34ce94ecb5eef3e6645"
      },
      "cell_type": "code",
      "source": "speedDating_2=select(speedDating, -one_of(vars_to_remove))",
      "execution_count": null,
      "outputs": []
    },
    {
      "metadata": {
        "trusted": true,
        "_uuid": "75526fa1e22113735f105ef3ca4bbc94f319b8f3"
      },
      "cell_type": "code",
      "source": "plot_missing(speedDating_2)",
      "execution_count": null,
      "outputs": []
    },
    {
      "metadata": {
        "trusted": true,
        "_uuid": "28e981f4d96ad8b56e1f6360ef24dad12164361a"
      },
      "cell_type": "code",
      "source": "df_status(speedDating_2[1,30:45])",
      "execution_count": null,
      "outputs": []
    },
    {
      "metadata": {
        "trusted": true,
        "_uuid": "5078c45273aae8bfd2533c215e25ff67c16ece09"
      },
      "cell_type": "code",
      "source": "dim(as.data.frame(table(speedDating_2$field)))",
      "execution_count": null,
      "outputs": []
    }