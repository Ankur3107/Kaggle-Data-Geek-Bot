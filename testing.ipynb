{
  "cells": [
    {
      "metadata": {
        "_uuid": "089c4123570818244f777009334a62db5b5f12c9",
        "_execution_state": "idle",
        "trusted": true
      },
      "cell_type": "code",
      "source": "library(knitr)\nlibrary(tidyr)\nlibrary(dplyr)\nlibrary(readr)\nlibrary(ggplot2)\nlibrary(tibble)\nlibrary(stringr)\nlibrary(gridExtra)\nlibrary(scales)\nlibrary(lubridate)\nlibrary(ggrepel)\nlibrary(leaflet)\nlibrary(reshape2)\n\nlibrary('dplyr')\nlibrary('DataExplorer')\nlibrary(ggplot2)\nlibrary(dplyr)\nlibrary(gridExtra)\nlibrary(RColorBrewer)\nlibrary(ggthemes)\nlibrary(gridExtra)\nlibrary(qgraph)\nlibrary(igraph)\nlibrary(bootnet) \nlibrary(dplyr)\nlibrary(NetworkComparisonTest)\nlibrary(mgm)\nlibrary(berryFunctions)\nlibrary(mice)\nlibrary(caret)\nlibrary(funModeling)\nlibrary(dplyr)\nlibrary(gbm)\nlibrary(breakDown)\nlibrary(ggpubr)\nlibrary(grid)\nlibrary(gridExtra)\nlibrary(ggplot2)\n\nlibrary(dplyr)\nlibrary(reshape)\nlibrary(data.table)\nlibrary(data.table)\nlibrary(formattable)\nlibrary(gridExtra)\nlibrary(funModeling)\nlibrary(tictoc)\noptions(warn=-1)",
      "execution_count": null,
      "outputs": []
    },
    {
      "metadata": {
        "trusted": true,
        "_uuid": "360e39f7a95abb4f0995e0e5aab416fbeedb0ecb"
      },
      "cell_type": "code",
      "source": "speedDating <- read.csv(\"../input/Speed Dating Data.csv\",stringsAsFactors=FALSE)",
      "execution_count": null,
      "outputs": []
    },
    {
      "metadata": {
        "trusted": true,
        "_uuid": "53d4028678592546624b4025895af298568be1a6"
      },
      "cell_type": "code",
      "source": "dim(speedDating)",
      "execution_count": null,
      "outputs": []
    },
    {
      "metadata": {
        "trusted": true,
        "scrolled": true,
        "_uuid": "6c55b832da2cd2ffa66dc5d931a65513135859c5"
      },
      "cell_type": "code",
      "source": "glimpse(speedDating)",
      "execution_count": null,
      "outputs": []
    },
    {
      "metadata": {
        "trusted": true,
        "_uuid": "f02dad1c1c2369ebcf46a6353e8e0d36dfeda3a3"
      },
      "cell_type": "code",
      "source": "speedDating_status <- df_status(speedDating)",
      "execution_count": null,
      "outputs": []
    },
    {
      "metadata": {
        "trusted": true,
        "_uuid": "2d155d671282a6b83204954003ab403b4161637a"
      },
      "cell_type": "code",
      "source": "vars_to_remove=filter(speedDating_status, p_na > 10)  %>% .$variable\nlength(vars_to_remove)",
      "execution_count": null,
      "outputs": []
    },
    {
      "metadata": {
        "trusted": true,
        "_uuid": "a47cea6fac5a90c73e9ac34ce94ecb5eef3e6645"
      },
      "cell_type": "code",
      "source": "speedDating_2=select(speedDating, -one_of(vars_to_remove))",
      "execution_count": null,
      "outputs": []
    },
    {
      "metadata": {
        "trusted": true,
        "_uuid": "75526fa1e22113735f105ef3ca4bbc94f319b8f3"
      },
      "cell_type": "code",
      "source": "plot_missing(speedDating_2)",
      "execution_count": null,
      "outputs": []
    },
    {
      "metadata": {
        "trusted": true,
        "_uuid": "28e981f4d96ad8b56e1f6360ef24dad12164361a"
      },
      "cell_type": "code",
      "source": "df_status(speedDating_2[1,30:45])",
      "execution_count": null,
      "outputs": []
    },
    {
      "metadata": {
        "trusted": true,
        "_uuid": "5078c45273aae8bfd2533c215e25ff67c16ece09"
      },
      "cell_type": "code",
      "source": "dim(as.data.frame(table(speedDating_2$field)))",
      "execution_count": null,
      "outputs": []
    },
    {
      "metadata": {
        "trusted": true,
        "scrolled": true,
        "_uuid": "164c096076bb9803f93f11d07477d501e027f736"
      },
      "cell_type": "code",
      "source": "df_status(speedDating_2[,33:37])",
      "execution_count": null,
      "outputs": []
    },
    {
      "metadata": {
        "trusted": true,
        "_uuid": "bbb20b31a390bfa97cdf9a4316e87a3ef1477e98"
      },
      "cell_type": "code",
      "source": "tic(\"Total Time Taken :\")\nvariable_importance = var_rank_info(speedDating_2%>% select(-undergra), \"dec_o\")\ntoc()",
      "execution_count": null,
      "outputs": []
    },
    {
      "metadata": {
        "trusted": true,
        "_uuid": "7b460f8ef2febfd87cad54c63290f862eff1b511"
      },
      "cell_type": "code",
      "source": "variable_importance$var[1:20]",
      "execution_count": null,
      "outputs": []
    },
    {
      "metadata": {
        "trusted": true,
        "_uuid": "aa3a6fbde8e3654fd3427ed8e55a411f1d4f0dd6"
      },
      "cell_type": "code",
      "source": "ggplot(variable_importance[1:20,], \n       aes(x = reorder(var, gr), \n           y = gr, fill = var)\n       ) + \n  geom_bar(stat = \"identity\") + \n  coord_flip() + \n  theme_bw() + \n  xlab(\"\") + \n  ylab(\"Variable Importance \n       (based on Information Gain)\"\n       ) + \n  guides(fill = FALSE)",
      "execution_count": null,
      "outputs": []
    },
    {
      "metadata": {
        "trusted": true,
        "_uuid": "09998b5075266c9b7a24f9632388a64968f5b244"
      },
      "cell_type": "code",
      "source": "?train",
      "execution_count": null,
      "outputs": []
    },
    {
      "metadata": {
        "trusted": true,
        "_uuid": "a3d8878529a9f8d6688af4e205eaf6d4f0737c9c"
      },
      "cell_type": "code",
      "source": "speedDating_3 <- na.omit(speedDating_2)\ndim(speedDating_3)",
      "execution_count": null,
      "outputs": []
    },
    {
      "metadata": {
        "trusted": true,
        "_uuid": "306eff5ef77ec6add3c033a7547f6dbaf832bfd8"
      },
      "cell_type": "code",
      "source": "speedDating_3$undergra = NULL",
      "execution_count": null,
      "outputs": []
    },
    {
      "metadata": {
        "trusted": true,
        "_uuid": "4ff3c2fd203804534530e9d481f02642f7c3cb74"
      },
      "cell_type": "code",
      "source": "speedDating_3$dec_o <- as.factor(speedDating_3$dec_o)",
      "execution_count": null,
      "outputs": []
    },
    {
      "metadata": {
        "trusted": true,
        "_uuid": "fa3a832dc0ba73c63f8cc502698d706c251fda32"
      },
      "cell_type": "code",
      "source": "dim(speedDating_3)",
      "execution_count": null,
      "outputs": []
    },
    {
      "metadata": {
        "trusted": true,
        "_uuid": "d4c30b384bcbeed34af5f831aa35dcb9285bd58c"
      },
      "cell_type": "code",
      "source": "trainingData <- speedDating_2 %>% select(variable_importance$var[1:30],dec_o)",
      "execution_count": null,
      "outputs": []
    },
    {
      "metadata": {
        "trusted": true,
        "_uuid": "be773f6e6d96057200d5a5e0154fc459362f5392"
      },
      "cell_type": "code",
      "source": "trainingData$dec_o <- as.factor(trainingData$dec_o)",
      "execution_count": null,
      "outputs": []
    },
    {
      "metadata": {
        "trusted": true,
        "_uuid": "eb18086847942ee98a3e7afff3aa232f82e30890"
      },
      "cell_type": "code",
      "source": "library(randomForest)\nlibrary(randomForestExplainer)",
      "execution_count": null,
      "outputs": []
    },
    {
      "metadata": {
        "trusted": true,
        "_uuid": "59bdcfb2ca5e204359a052cf52944b531cea3bab"
      },
      "cell_type": "code",
      "source": "trainingData <- na.omit(trainingData)",
      "execution_count": null,
      "outputs": []
    },
    {
      "metadata": {
        "trusted": true,
        "_uuid": "257ca1270377818ab29a7d991850d49033e17c7a"
      },
      "cell_type": "code",
      "source": "plot_missing(trainingData)",
      "execution_count": null,
      "outputs": []
    },
    {
      "metadata": {
        "trusted": true,
        "_uuid": "bfa033a50434f287d8db1d50037bdec1a9ee048d"
      },
      "cell_type": "code",
      "source": "trainingData$dec_o <- as.factor(trainingData$dec_o)",
      "execution_count": null,
      "outputs": []
    },
    {
      "metadata": {
        "trusted": true,
        "_uuid": "ed0eafe59f760395fbe6174d226dec49fd518564"
      },
      "cell_type": "code",
      "source": "glimpse(trainingData)",
      "execution_count": null,
      "outputs": []
    },
    {
      "metadata": {
        "trusted": true,
        "_uuid": "e798bf9169b856114e255460bcb3c0af2c4ec9a0"
      },
      "cell_type": "code",
      "source": "# Making model\nrf <-randomForest(dec_o~.,data=trainingData, localImp = TRUE, ntree=100, mtry=2, importance=TRUE, na.action=na.omit)",
      "execution_count": null,
      "outputs": []
    },
    {
      "metadata": {
        "trusted": true,
        "_uuid": "23d21d56a4ecf0866a0ecc6f2b0b8eb58cdb580e"
      },
      "cell_type": "code",
      "source": "?randomForest",
      "execution_count": null,
      "outputs": []
    },
    {
      "metadata": {
        "trusted": true,
        "_uuid": "67512ec5a1a5705b29076aaf35d90c734fddef16"
      },
      "cell_type": "code",
      "source": "",
      "execution_count": null,
      "outputs": []
    }
  ]